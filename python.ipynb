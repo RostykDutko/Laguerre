{
 "cells": [
  {
   "cell_type": "code",
   "execution_count": null,
   "id": "6e90bb14",
   "metadata": {},
   "outputs": [
    {
     "data": {
      "application/vnd.jupyter.widget-view+json": {
       "model_id": "f2e847bf40164609a5f4bf43e8736fff",
       "version_major": 2,
       "version_minor": 0
      },
      "text/plain": [
       "VBox(children=(Text(value='np.exp(-t)', description='f(t):', layout=Layout(width='60%')), IntSlider(value=10, …"
      ]
     },
     "metadata": {},
     "output_type": "display_data"
    }
   ],
   "source": [
    "import numpy as np\n",
    "import matplotlib.pyplot as plt\n",
    "import ipywidgets as widgets\n",
    "from IPython.display import display\n",
    "import pandas as pd\n",
    " \n",
    "class ParameterApp:\n",
    "    def __init__(self):\n",
    "        self.function_input = widgets.Text(value='np.exp(-t)', description='f(t):', layout=widgets.Layout(width='60%'))\n",
    "        self.slider_N = widgets.IntSlider(description='N:', min=1, max=50, value=10)\n",
    "        self.slider_T = widgets.FloatSlider(description='T:', min=1, max=50, value=5)\n",
    "        self.slider_alpha = widgets.FloatSlider(description='α:', min=0.0, max=10.0, step=0.1, value=1.0)\n",
    "        self.save_button = widgets.Button(description=\"💾 Зберегти у CSV\")\n",
    "        self.plot_button = widgets.Button(description=\"📊 Побудувати графіки\")\n",
    "        self.output = widgets.Output()\n",
    " \n",
    "        self.save_button.on_click(self.save_params_to_csv)\n",
    "        self.plot_button.on_click(self.plot_from_csv)\n",
    " \n",
    "        display(\n",
    "            widgets.VBox([\n",
    "                self.function_input, self.slider_N, self.slider_T, self.slider_alpha,\n",
    "                self.save_button, self.plot_button,\n",
    "                self.output\n",
    "            ])\n",
    "        )\n",
    " \n",
    "    def save_params_to_csv(self, b=None):\n",
    "        params = {\n",
    "            \"function\": self.function_input.value,\n",
    "            \"N\": self.slider_N.value,\n",
    "            \"T\": self.slider_T.value,\n",
    "            \"alpha\": self.slider_alpha.value\n",
    "        }\n",
    "        df = pd.DataFrame([params])\n",
    "        df.to_csv(\"params.csv\", index=False)\n",
    "        with self.output:\n",
    "            self.output.clear_output()\n",
    "            print(\"✅ Параметри збережено в params.csv\")\n",
    " \n",
    "    def plot_from_csv(self, b=None):\n",
    "        try:\n",
    "            df = pd.read_csv(\"results.csv\")\n",
    "            t = df[\"t\"]\n",
    "            f_t = df[\"f_t\"]\n",
    "            f_rec = df[\"f_rec\"]\n",
    "\n",
    " \n",
    "            with self.output:\n",
    "                self.output.clear_output()\n",
    "                fig, axs = plt.subplots(1, 2, figsize=(14, 5))\n",
    " \n",
    "                axs[0].plot(t, f_t, label='f(t)', color='blue')\n",
    "                axs[0].plot(t, f_rec, label='f_inv(t)', linestyle='--', color='red')\n",
    "                axs[0].set_title(\"Функція та її відновлення\")\n",
    "                axs[0].legend()\n",
    "                axs[0].grid(True)\n",
    " \n",
    "                \n",
    "                plt.tight_layout()\n",
    "                plt.show()\n",
    " \n",
    "        except Exception as e:\n",
    "            with self.output:\n",
    "                self.output.clear_output()\n",
    "                print(\"❌ Помилка при побудові:\", e)\n",
    " \n",
    "app = ParameterApp()"
   ]
  }
 ],
 "metadata": {
  "kernelspec": {
   "display_name": "Python 3",
   "language": "python",
   "name": "python3"
  },
  "language_info": {
   "codemirror_mode": {
    "name": "ipython",
    "version": 3
   },
   "file_extension": ".py",
   "mimetype": "text/x-python",
   "name": "python",
   "nbconvert_exporter": "python",
   "pygments_lexer": "ipython3",
   "version": "3.11.9"
  }
 },
 "nbformat": 4,
 "nbformat_minor": 5
}
